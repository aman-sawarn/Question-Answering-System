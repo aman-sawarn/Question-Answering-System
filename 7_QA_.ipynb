{
  "nbformat": 4,
  "nbformat_minor": 0,
  "metadata": {
    "colab": {
      "name": "7 QA .ipynb",
      "provenance": []
    },
    "kernelspec": {
      "name": "python3",
      "display_name": "Python 3"
    },
    "accelerator": "GPU"
  },
  "cells": [
    {
      "cell_type": "code",
      "metadata": {
        "id": "1iQhvdhAPBjD",
        "colab_type": "code",
        "colab": {}
      },
      "source": [
        "from __future__ import absolute_import, division\n",
        "import json\n",
        "import os\n",
        "import time\n",
        "from keras.utils import Sequence\n",
        "import numpy as np\n",
        "import pandas as pd\n",
        "import gensim\n",
        "from tqdm import tqdm\n",
        "from nltk.stem import PorterStemmer\n",
        "ps = PorterStemmer()\n",
        "from nltk.stem.lancaster import LancasterStemmer\n",
        "lc = LancasterStemmer()\n",
        "from nltk.stem import SnowballStemmer\n",
        "sb = SnowballStemmer(\"english\")\n",
        "import gc\n",
        "from keras.models import Sequential\n",
        "from keras.layers import Dense,LSTM\n",
        "from keras.layers.wrappers import TimeDistributed\n",
        "\n",
        "from keras.preprocessing.text import Tokenizer\n",
        "from keras.preprocessing.sequence import pad_sequences\n",
        "from keras.layers import Dense, Input, CuDNNLSTM, Embedding, Dropout, Activation, CuDNNGRU, Conv1D\n",
        "from keras.layers import Bidirectional, GlobalMaxPool1D, GlobalMaxPooling1D, GlobalAveragePooling1D\n",
        "from keras.layers import Input, Embedding, Dense, Conv2D, MaxPool2D, concatenate, LSTM, GRU\n",
        "from keras.layers import Reshape, Flatten, Concatenate, Dropout, SpatialDropout1D\n",
        "from keras.optimizers import Adam\n",
        "from keras.models import Model\n",
        "from keras import backend as K\n",
        "from keras.engine.topology import Layer\n",
        "from keras import initializers, regularizers, constraints, optimizers, layers\n",
        "\n",
        "import sys\n",
        "from os.path import dirname\n",
        "#sys.path.append(dirname(dirname(__file__)))\n",
        "from keras import initializers\n",
        "from keras.engine import InputSpec, Layer\n",
        "from keras import backend as K\n",
        "\n",
        "import spacy"
      ],
      "execution_count": 0,
      "outputs": []
    },
    {
      "cell_type": "code",
      "metadata": {
        "id": "uyFhJj0Fa0xV",
        "colab_type": "code",
        "colab": {}
      },
      "source": [
        "from keras.utils import Sequence\n",
        "import os\n",
        "from pandas.io.json import json_normalize\n",
        "import pandas as pd\n",
        "import numpy as np"
      ],
      "execution_count": 0,
      "outputs": []
    },
    {
      "cell_type": "markdown",
      "metadata": {
        "id": "z9E5UzZSXZeS",
        "colab_type": "text"
      },
      "source": [
        "## loading data"
      ]
    },
    {
      "cell_type": "code",
      "metadata": {
        "id": "4UDlk8fyXZ2F",
        "colab_type": "code",
        "colab": {}
      },
      "source": [
        "df=pd.read_csv('/content/drive/My Drive/Colab Notebooks/Squad_train_dataframe.csv')"
      ],
      "execution_count": 0,
      "outputs": []
    },
    {
      "cell_type": "code",
      "metadata": {
        "id": "pbzjY5oHXZ59",
        "colab_type": "code",
        "outputId": "faf8092d-dc60-422c-8923-c17cdf452d37",
        "colab": {
          "base_uri": "https://localhost:8080/",
          "height": 391
        }
      },
      "source": [
        "df.head()"
      ],
      "execution_count": 67,
      "outputs": [
        {
          "output_type": "execute_result",
          "data": {
            "text/html": [
              "<div>\n",
              "<style scoped>\n",
              "    .dataframe tbody tr th:only-of-type {\n",
              "        vertical-align: middle;\n",
              "    }\n",
              "\n",
              "    .dataframe tbody tr th {\n",
              "        vertical-align: top;\n",
              "    }\n",
              "\n",
              "    .dataframe thead th {\n",
              "        text-align: right;\n",
              "    }\n",
              "</style>\n",
              "<table border=\"1\" class=\"dataframe\">\n",
              "  <thead>\n",
              "    <tr style=\"text-align: right;\">\n",
              "      <th></th>\n",
              "      <th>Unnamed: 0</th>\n",
              "      <th>index</th>\n",
              "      <th>question</th>\n",
              "      <th>context</th>\n",
              "      <th>text</th>\n",
              "      <th>answer_start</th>\n",
              "      <th>c_id</th>\n",
              "      <th>question_length</th>\n",
              "      <th>context_length</th>\n",
              "      <th>answer_length</th>\n",
              "    </tr>\n",
              "  </thead>\n",
              "  <tbody>\n",
              "    <tr>\n",
              "      <th>0</th>\n",
              "      <td>0</td>\n",
              "      <td>56be85543aeaaa14008c9063</td>\n",
              "      <td>When did Beyonce start becoming popular?</td>\n",
              "      <td>Beyoncé Giselle Knowles-Carter (/biːˈjɒnseɪ/ b...</td>\n",
              "      <td>in the late 1990s</td>\n",
              "      <td>269.0</td>\n",
              "      <td>0</td>\n",
              "      <td>6</td>\n",
              "      <td>109</td>\n",
              "      <td>4</td>\n",
              "    </tr>\n",
              "    <tr>\n",
              "      <th>1</th>\n",
              "      <td>1</td>\n",
              "      <td>56be85543aeaaa14008c9065</td>\n",
              "      <td>What areas did Beyonce compete in when she was...</td>\n",
              "      <td>Beyoncé Giselle Knowles-Carter (/biːˈjɒnseɪ/ b...</td>\n",
              "      <td>singing and dancing</td>\n",
              "      <td>207.0</td>\n",
              "      <td>0</td>\n",
              "      <td>11</td>\n",
              "      <td>109</td>\n",
              "      <td>3</td>\n",
              "    </tr>\n",
              "    <tr>\n",
              "      <th>2</th>\n",
              "      <td>2</td>\n",
              "      <td>56be85543aeaaa14008c9066</td>\n",
              "      <td>When did Beyonce leave Destiny's Child and bec...</td>\n",
              "      <td>Beyoncé Giselle Knowles-Carter (/biːˈjɒnseɪ/ b...</td>\n",
              "      <td>2003</td>\n",
              "      <td>526.0</td>\n",
              "      <td>0</td>\n",
              "      <td>11</td>\n",
              "      <td>109</td>\n",
              "      <td>1</td>\n",
              "    </tr>\n",
              "    <tr>\n",
              "      <th>3</th>\n",
              "      <td>3</td>\n",
              "      <td>56bf6b0f3aeaaa14008c9601</td>\n",
              "      <td>In what city and state did Beyonce  grow up?</td>\n",
              "      <td>Beyoncé Giselle Knowles-Carter (/biːˈjɒnseɪ/ b...</td>\n",
              "      <td>Houston, Texas</td>\n",
              "      <td>166.0</td>\n",
              "      <td>0</td>\n",
              "      <td>9</td>\n",
              "      <td>109</td>\n",
              "      <td>2</td>\n",
              "    </tr>\n",
              "    <tr>\n",
              "      <th>4</th>\n",
              "      <td>4</td>\n",
              "      <td>56bf6b0f3aeaaa14008c9602</td>\n",
              "      <td>In which decade did Beyonce become famous?</td>\n",
              "      <td>Beyoncé Giselle Knowles-Carter (/biːˈjɒnseɪ/ b...</td>\n",
              "      <td>late 1990s</td>\n",
              "      <td>276.0</td>\n",
              "      <td>0</td>\n",
              "      <td>7</td>\n",
              "      <td>109</td>\n",
              "      <td>2</td>\n",
              "    </tr>\n",
              "  </tbody>\n",
              "</table>\n",
              "</div>"
            ],
            "text/plain": [
              "   Unnamed: 0                     index  ... context_length answer_length\n",
              "0           0  56be85543aeaaa14008c9063  ...            109             4\n",
              "1           1  56be85543aeaaa14008c9065  ...            109             3\n",
              "2           2  56be85543aeaaa14008c9066  ...            109             1\n",
              "3           3  56bf6b0f3aeaaa14008c9601  ...            109             2\n",
              "4           4  56bf6b0f3aeaaa14008c9602  ...            109             2\n",
              "\n",
              "[5 rows x 10 columns]"
            ]
          },
          "metadata": {
            "tags": []
          },
          "execution_count": 67
        }
      ]
    },
    {
      "cell_type": "code",
      "metadata": {
        "id": "w7gv2vJKXZ-8",
        "colab_type": "code",
        "outputId": "c9e039e7-3132-4255-872d-028b3c34cf03",
        "colab": {
          "base_uri": "https://localhost:8080/",
          "height": 34
        }
      },
      "source": [
        "from keras.preprocessing.text import Tokenizer\n",
        "from keras.preprocessing.sequence import pad_sequences\n",
        "\n",
        "### Word Level\n",
        "\n",
        "tokenizer_word=Tokenizer()\n",
        "tokenizer_word.fit_on_texts(df['question'] + df['context'])\n",
        "tokenizer_question=tokenizer_word.texts_to_sequences(df['question'])\n",
        "question_word_padded = pad_sequences(list(tokenizer_question), maxlen=12, padding='post')\n",
        "\n",
        "# tokenizer_context_word=Tokenizer()\n",
        "# tokenizer_context_word.fit_on_texts(df['context'])\n",
        "tokenizer_context=tokenizer_word.texts_to_sequences(df['context'])\n",
        "context_word_padded = pad_sequences(list(tokenizer_context), maxlen=120, padding='post')\n",
        "\n",
        "word_index = tokenizer_word.word_index\n",
        "print(\"dictionary size: \", len(word_index))\n",
        "\n",
        "# print(tokenizer_context_word.word_counts)\n",
        "# print(tokenizer_context_word.document_count)\n",
        "# print(tokenizer_context_word.word_index)\n",
        "# print(tokenizer_question_word.word_docs)"
      ],
      "execution_count": 68,
      "outputs": [
        {
          "output_type": "stream",
          "text": [
            "dictionary size:  94993\n"
          ],
          "name": "stdout"
        }
      ]
    },
    {
      "cell_type": "code",
      "metadata": {
        "id": "aHc97piNNK5Y",
        "colab_type": "code",
        "outputId": "08c66bf8-ab58-4cce-8c4f-4331d05fd643",
        "colab": {
          "base_uri": "https://localhost:8080/",
          "height": 34
        }
      },
      "source": [
        "### Char Level\n",
        "\n",
        "tokenizer_char=Tokenizer(char_level=True)\n",
        "tokenizer_char.fit_on_texts(df['question'] + df['context'])\n",
        "tokenizer_question=tokenizer_char.texts_to_sequences(df['question'])\n",
        "question_char_padded = pad_sequences(list(tokenizer_question), maxlen=40, padding='post')\n",
        "\n",
        "\n",
        "tokenizer_context=tokenizer_char.texts_to_sequences(df['context'])\n",
        "context_char_padded = pad_sequences(list(tokenizer_context), maxlen=350, padding='post')\n",
        "\n",
        "char_index = tokenizer_char.word_index\n",
        "print(\"dictionary size: \", len(char_index))"
      ],
      "execution_count": 69,
      "outputs": [
        {
          "output_type": "stream",
          "text": [
            "dictionary size:  1266\n"
          ],
          "name": "stdout"
        }
      ]
    },
    {
      "cell_type": "markdown",
      "metadata": {
        "id": "NUuotxELQfus",
        "colab_type": "text"
      },
      "source": [
        "## Pretrained Layers"
      ]
    },
    {
      "cell_type": "code",
      "metadata": {
        "id": "9iZcy2GT9-Ef",
        "colab_type": "code",
        "outputId": "12ed327d-a839-4dac-e9ac-eba9dac865ce",
        "colab": {
          "base_uri": "https://localhost:8080/",
          "height": 51
        }
      },
      "source": [
        "#load embeddings\n",
        "#https://www.kaggle.com/vsmolyakov/keras-cnn-with-fasttext-embeddings\n",
        "\n",
        "print('loading fasttext word embeddings...')\n",
        "embeddings_index_fasttext = {}\n",
        "f = open('/content/drive/My Drive/Colab Notebooks/wiki-news-300d-1M.vec', encoding='utf-8')\n",
        "for line in f:\n",
        "    values = line.rstrip().rsplit(' ')\n",
        "    word = values[0]\n",
        "    coefs = np.asarray(values[1:], dtype='float32')\n",
        "    embeddings_index_fasttext[word] = coefs\n",
        "f.close()\n",
        "print('found %s word vectors' % len(embeddings_index_fasttext))"
      ],
      "execution_count": 70,
      "outputs": [
        {
          "output_type": "stream",
          "text": [
            "loading fasttext word embeddings...\n",
            "found 1000000 word vectors\n"
          ],
          "name": "stdout"
        }
      ]
    },
    {
      "cell_type": "code",
      "metadata": {
        "id": "Dp3ZLwcWPYhp",
        "colab_type": "code",
        "colab": {}
      },
      "source": [
        "## https://keras.io/preprocessing/text/\n",
        "embeddings_index_glove = {}\n",
        "f = open(r'/content/drive/My Drive/Colab Notebooks/glove.840B.300d.txt', encoding=\"utf8\")\n",
        "for line in f:\n",
        "    values = line.split()\n",
        "    word = ''.join(values[:-300])\n",
        "    coefs = np.asarray(values[-300:], dtype='float32')\n",
        "    embeddings_index_glove[word] = coefs\n",
        "f.close()"
      ],
      "execution_count": 0,
      "outputs": []
    },
    {
      "cell_type": "code",
      "metadata": {
        "id": "h59LsKW4Dwum",
        "colab_type": "code",
        "outputId": "4f6c3003-ba43-4632-fc90-c22196eced83",
        "colab": {
          "base_uri": "https://localhost:8080/",
          "height": 34
        }
      },
      "source": [
        "print('found %s word vectors' % len(embeddings_index_glove))"
      ],
      "execution_count": 72,
      "outputs": [
        {
          "output_type": "stream",
          "text": [
            "found 2195893 word vectors\n"
          ],
          "name": "stdout"
        }
      ]
    },
    {
      "cell_type": "code",
      "metadata": {
        "id": "AlzBTeD3S_aQ",
        "colab_type": "code",
        "colab": {}
      },
      "source": [
        "embedding_matrix_glove = np.zeros((len(word_index) + 1, 300))\n",
        "for word, i in word_index.items():\n",
        "    embedding_vector = embeddings_index_glove.get(word)\n",
        "    if embedding_vector is not None:\n",
        "        # words not found in embedding index will be all-zeros.\n",
        "        embedding_matrix_glove[i] = embedding_vector"
      ],
      "execution_count": 0,
      "outputs": []
    },
    {
      "cell_type": "code",
      "metadata": {
        "id": "vbJO23ZwTiRr",
        "colab_type": "code",
        "outputId": "38a48ba8-8186-485a-9998-4ec0a0ee9f4a",
        "colab": {
          "base_uri": "https://localhost:8080/",
          "height": 51
        }
      },
      "source": [
        "#embedding matrix\n",
        "## https://www.kaggle.com/vsmolyakov/keras-cnn-with-fasttext-embeddings\n",
        "\n",
        "print('preparing fasttext embedding matrix...')\n",
        "words_not_found = []\n",
        "nb_words =  len(char_index)\n",
        "embedding_matrix_fasttext = np.zeros((nb_words, 300))\n",
        "for word, i in word_index.items():\n",
        "    if i >= nb_words:\n",
        "        continue\n",
        "    embedding_vector = embeddings_index_fasttext.get(word)\n",
        "    if (embedding_vector is not None) and len(embedding_vector) > 0:\n",
        "        # words not found in embedding index will be all-zeros.\n",
        "        embedding_matrix_fasttext[i] = embedding_vector\n",
        "    else:\n",
        "        words_not_found.append(word)\n",
        "print('number of null word embeddings: %d' % np.sum(np.sum(embedding_matrix_fasttext, axis=1) == 0))"
      ],
      "execution_count": 74,
      "outputs": [
        {
          "output_type": "stream",
          "text": [
            "preparing fasttext embedding matrix...\n",
            "number of null word embeddings: 6\n"
          ],
          "name": "stdout"
        }
      ]
    },
    {
      "cell_type": "markdown",
      "metadata": {
        "id": "cbZS6kbwgrjs",
        "colab_type": "text"
      },
      "source": [
        "## Metric"
      ]
    },
    {
      "cell_type": "code",
      "metadata": {
        "id": "iAPECF93TmYQ",
        "colab_type": "code",
        "colab": {}
      },
      "source": [
        "##  https://github.com/ParikhKadam/bidaf-keras/blob/master/bidaf/scripts/accuracy_metric.py\n",
        "\n",
        "from keras import backend as K\n",
        "\n",
        "\n",
        "def accuracy(y_true, y_pred):\n",
        "\n",
        "    def calculate_accuracy(true_and_pred):\n",
        "        y_true, y_pred_start, y_pred_end = true_and_pred\n",
        "\n",
        "        start_probability = y_pred_start[K.cast(y_true[0], dtype='int32')]\n",
        "        end_probability = y_pred_end[K.cast(y_true[1], dtype='int32')]\n",
        "        return (start_probability + end_probability) / 2.0\n",
        "\n",
        "    y_true = K.squeeze(y_true, axis=1)\n",
        "    y_pred_start = y_pred[:, 0, :]\n",
        "    y_pred_end = y_pred[:, 1, :]\n",
        "    accuracy = K.map_fn(calculate_accuracy, (y_true, y_pred_start, y_pred_end), dtype='float32')\n",
        "    return K.mean(accuracy, axis=0)"
      ],
      "execution_count": 0,
      "outputs": []
    },
    {
      "cell_type": "markdown",
      "metadata": {
        "id": "T0T38UK6g994",
        "colab_type": "text"
      },
      "source": [
        "## Loss Function"
      ]
    },
    {
      "cell_type": "code",
      "metadata": {
        "id": "pXEOIX8ZgxzG",
        "colab_type": "code",
        "colab": {}
      },
      "source": [
        "## https://github.com/ParikhKadam/bidaf-keras/blob/master/bidaf/scripts/loss_function.py\n",
        "\n",
        "def negative_avg_log_error(y_true, y_pred):\n",
        "\n",
        "    def sum_of_log_probabilities(true_and_pred):\n",
        "        y_true, y_pred_start, y_pred_end = true_and_pred\n",
        "\n",
        "        start_probability = y_pred_start[K.cast(y_true[0], dtype='int32')]\n",
        "        end_probability = y_pred_end[K.cast(y_true[1], dtype='int32')]\n",
        "        return K.log(start_probability) + K.log(end_probability)\n",
        "\n",
        "    y_true = K.squeeze(y_true, axis=1)\n",
        "    y_pred_start = y_pred[:, 0, :]\n",
        "    y_pred_end = y_pred[:, 1, :]\n",
        "    batch_probability_sum = K.map_fn(sum_of_log_probabilities, (y_true, y_pred_start, y_pred_end), dtype='float32')\n",
        "    return -K.mean(batch_probability_sum, axis=0)"
      ],
      "execution_count": 0,
      "outputs": []
    },
    {
      "cell_type": "markdown",
      "metadata": {
        "id": "OhmSeayihNOh",
        "colab_type": "text"
      },
      "source": [
        "## Multimodel GPU"
      ]
    },
    {
      "cell_type": "code",
      "metadata": {
        "id": "AXpEdwefgyIZ",
        "colab_type": "code",
        "colab": {}
      },
      "source": [
        "## https://github.com/ParikhKadam/bidaf-keras/blob/master/bidaf/scripts/multi_gpu_model.py\n",
        "\n",
        "from keras import Model\n",
        "from keras.utils import multi_gpu_model\n",
        "from keras.engine.topology import Layer\n",
        "from keras.layers.advanced_activations import Softmax\n",
        "from keras.layers import TimeDistributed, Dense\n",
        "from keras.activations import linear\n",
        "from keras.preprocessing.text import Tokenizer\n",
        "from keras.preprocessing.sequence import pad_sequences\n",
        "from keras.layers import Dense, Input, CuDNNLSTM, Embedding, Dropout, Activation, CuDNNGRU, Conv1D\n",
        "from keras.layers import Bidirectional, GlobalMaxPool1D, GlobalMaxPooling1D, GlobalAveragePooling1D\n",
        "from keras.layers import Input, Embedding, Dense, Conv2D, MaxPool2D, concatenate, LSTM, GRU\n",
        "from keras.layers import Reshape, Flatten, Concatenate, Dropout, SpatialDropout1D\n",
        "from keras.optimizers import Adam\n",
        "from keras.models import Model\n",
        "\n",
        "\n",
        "class ModelMGPU(Model):\n",
        "    def __init__(self, ser_model, gpus=None):\n",
        "        pmodel = multi_gpu_model(ser_model, gpus)\n",
        "        self.__dict__.update(pmodel.__dict__)\n",
        "        self._smodel = ser_model\n",
        "\n",
        "    def __getattribute__(self, attrname):\n",
        "        '''Override load and save methods to be used from the serial-model. The\n",
        "        serial-model holds references to the weights in the multi-gpu model.\n",
        "        '''\n",
        "        # return Model.__getattribute__(self, attrname)\n",
        "        if 'load' in attrname or 'save' in attrname:\n",
        "            return getattr(self._smodel, attrname)\n",
        "\n",
        "        return super(ModelMGPU, self).__getattribute__(attrname)"
      ],
      "execution_count": 0,
      "outputs": []
    },
    {
      "cell_type": "markdown",
      "metadata": {
        "id": "SQGiHUW5hmwl",
        "colab_type": "text"
      },
      "source": [
        "## Span Begin"
      ]
    },
    {
      "cell_type": "code",
      "metadata": {
        "id": "AfaeDW81hllW",
        "colab_type": "code",
        "colab": {}
      },
      "source": [
        "## https://github.com/ParikhKadam/bidaf-keras/blob/master/bidaf/layers/span_begin.py\n",
        "class SpanBegin(Layer):\n",
        "\n",
        "    def __init__(self, **kwargs):\n",
        "        super(SpanBegin, self).__init__(**kwargs)\n",
        "\n",
        "    def build(self, input_shape):\n",
        "        last_dim = input_shape[0][-1] + input_shape[1][-1]\n",
        "        input_shape_dense_1 = input_shape[0][:-1] + (last_dim, )\n",
        "        self.dense_1 = Dense(units=1)\n",
        "        self.dense_1.build(input_shape_dense_1)\n",
        "        self.trainable_weights = self.dense_1.trainable_weights\n",
        "        super(SpanBegin, self).build(input_shape)\n",
        "\n",
        "    def call(self, inputs):\n",
        "        merged_context, modeled_passage = inputs\n",
        "        span_begin_input = K.concatenate([merged_context, modeled_passage])\n",
        "        span_begin_weights = TimeDistributed(self.dense_1)(span_begin_input)\n",
        "        span_begin_probabilities = Softmax()(K.squeeze(span_begin_weights, axis=-1))\n",
        "        return span_begin_probabilities\n",
        "\n",
        "    def compute_output_shape(self, input_shape):\n",
        "        merged_context_shape, _ = input_shape\n",
        "        return merged_context_shape[:-1]\n",
        "\n",
        "    def get_config(self):\n",
        "        config = super().get_config()\n",
        "        return config"
      ],
      "execution_count": 0,
      "outputs": []
    },
    {
      "cell_type": "markdown",
      "metadata": {
        "id": "f2dsySuohpFx",
        "colab_type": "text"
      },
      "source": [
        "## Span End"
      ]
    },
    {
      "cell_type": "code",
      "metadata": {
        "id": "7SkTtnwWhUSv",
        "colab_type": "code",
        "colab": {}
      },
      "source": [
        "## https://github.com/ParikhKadam/bidaf-keras/blob/master/bidaf/layers/span_end.py\n",
        "\n",
        "class SpanEnd(Layer):\n",
        "\n",
        "    def __init__(self, **kwargs):\n",
        "        super(SpanEnd, self).__init__(**kwargs)\n",
        "\n",
        "    def build(self, input_shape):\n",
        "        emdim = input_shape[0][-1] // 2\n",
        "        input_shape_bilstm_1 = input_shape[0][:-1] + (emdim*14, )\n",
        "        self.bilstm_1 = Bidirectional(LSTM(emdim, return_sequences=True))\n",
        "        self.bilstm_1.build(input_shape_bilstm_1)\n",
        "        input_shape_dense_1 = input_shape[0][:-1] + (emdim*10, )\n",
        "        self.dense_1 = Dense(units=1)\n",
        "        self.dense_1.build(input_shape_dense_1)\n",
        "        self.trainable_weights = self.bilstm_1.trainable_weights + self.dense_1.trainable_weights\n",
        "        super(SpanEnd, self).build(input_shape)\n",
        "\n",
        "    def call(self, inputs):\n",
        "        encoded_passage, merged_context, modeled_passage, span_begin_probabilities = inputs\n",
        "        weighted_sum = K.sum(K.expand_dims(span_begin_probabilities, axis=-1) * modeled_passage, -2)\n",
        "        passage_weighted_by_predicted_span = K.expand_dims(weighted_sum, axis=1)\n",
        "        tile_shape = K.concatenate([[1], [K.shape(encoded_passage)[1]], [1]], axis=0)\n",
        "        passage_weighted_by_predicted_span = K.tile(passage_weighted_by_predicted_span, tile_shape)\n",
        "        multiply1 = modeled_passage * passage_weighted_by_predicted_span\n",
        "        span_end_representation = K.concatenate(\n",
        "            [merged_context, modeled_passage, passage_weighted_by_predicted_span, multiply1])\n",
        "\n",
        "        span_end_representation = self.bilstm_1(span_end_representation)\n",
        "\n",
        "        span_end_input = K.concatenate([merged_context, span_end_representation])\n",
        "\n",
        "        span_end_weights = TimeDistributed(self.dense_1)(span_end_input)\n",
        "\n",
        "        span_end_probabilities = Softmax()(K.squeeze(span_end_weights, axis=-1))\n",
        "        return span_end_probabilities\n",
        "\n",
        "    def compute_output_shape(self, input_shape):\n",
        "        _, merged_context_shape, _, _ = input_shape\n",
        "        return merged_context_shape[:-1]\n",
        "\n",
        "    def get_config(self):\n",
        "        config = super().get_config()\n",
        "        return config"
      ],
      "execution_count": 0,
      "outputs": []
    },
    {
      "cell_type": "markdown",
      "metadata": {
        "id": "JSR4ftEJiKTr",
        "colab_type": "text"
      },
      "source": [
        "## Similarity Layer"
      ]
    },
    {
      "cell_type": "code",
      "metadata": {
        "id": "IwC1mVvziD4y",
        "colab_type": "code",
        "colab": {}
      },
      "source": [
        "## https://github.com/ParikhKadam/bidaf-keras/blob/master/bidaf/layers/similarity_layer.py\n",
        "\n",
        "\n",
        "class Similarity(Layer):\n",
        "\n",
        "    def __init__(self, **kwargs):\n",
        "        super(Similarity, self).__init__(**kwargs)\n",
        "\n",
        "    def compute_similarity(self, repeated_context_vectors, repeated_query_vectors):\n",
        "        element_wise_multiply = repeated_context_vectors * repeated_query_vectors\n",
        "        concatenated_tensor = K.concatenate(\n",
        "            [repeated_context_vectors, repeated_query_vectors, element_wise_multiply], axis=-1)\n",
        "        dot_product = K.squeeze(K.dot(concatenated_tensor, self.kernel), axis=-1)\n",
        "        return linear(dot_product + self.bias)\n",
        "\n",
        "    def build(self, input_shape):\n",
        "        word_vector_dim = input_shape[0][-1]\n",
        "        weight_vector_dim = word_vector_dim * 3\n",
        "        self.kernel = self.add_weight(name='similarity_weight',\n",
        "                                      shape=(weight_vector_dim, 1),\n",
        "                                      initializer='uniform',\n",
        "                                      trainable=True)\n",
        "        self.bias = self.add_weight(name='similarity_bias',\n",
        "                                    shape=(),\n",
        "                                    initializer='ones',\n",
        "                                    trainable=True)\n",
        "        super(Similarity, self).build(input_shape)\n",
        "\n",
        "    def call(self, inputs):\n",
        "        context_vectors, query_vectors = inputs\n",
        "        num_context_words = K.shape(context_vectors)[1]\n",
        "        num_query_words = K.shape(query_vectors)[1]\n",
        "        context_dim_repeat = K.concatenate([[1, 1], [num_query_words], [1]], 0)\n",
        "        query_dim_repeat = K.concatenate([[1], [num_context_words], [1, 1]], 0)\n",
        "        repeated_context_vectors = K.tile(K.expand_dims(context_vectors, axis=2), context_dim_repeat)\n",
        "        repeated_query_vectors = K.tile(K.expand_dims(query_vectors, axis=1), query_dim_repeat)\n",
        "        similarity_matrix = self.compute_similarity(repeated_context_vectors, repeated_query_vectors)\n",
        "        return similarity_matrix\n",
        "\n",
        "    def compute_output_shape(self, input_shape):\n",
        "        batch_size = input_shape[0][0]\n",
        "        num_context_words = input_shape[0][1]\n",
        "        num_query_words = input_shape[1][1]\n",
        "        return (batch_size, num_context_words, num_query_words)\n",
        "\n",
        "    def get_config(self):\n",
        "        config = super().get_config()\n",
        "        return config"
      ],
      "execution_count": 0,
      "outputs": []
    },
    {
      "cell_type": "markdown",
      "metadata": {
        "id": "7TTKnHIqibW9",
        "colab_type": "text"
      },
      "source": [
        "## Query to Context Attention"
      ]
    },
    {
      "cell_type": "code",
      "metadata": {
        "id": "ditcLuGAiZ3F",
        "colab_type": "code",
        "colab": {}
      },
      "source": [
        "## https://github.com/ParikhKadam/bidaf-keras/blob/master/bidaf/layers/query_to_context.py\n",
        "\n",
        "class Q2CAttention(Layer):\n",
        "\n",
        "    def __init__(self, **kwargs):\n",
        "        super(Q2CAttention, self).__init__(**kwargs)\n",
        "\n",
        "    def build(self, input_shape):\n",
        "        super(Q2CAttention, self).build(input_shape)\n",
        "\n",
        "    def call(self, inputs):\n",
        "        similarity_matrix, encoded_context = inputs\n",
        "        max_similarity = K.max(similarity_matrix, axis=-1)\n",
        "        # by default, axis = -1 in Softmax\n",
        "        context_to_query_attention = Softmax()(max_similarity)\n",
        "        weighted_sum = K.sum(K.expand_dims(context_to_query_attention, axis=-1) * encoded_context, -2)\n",
        "        expanded_weighted_sum = K.expand_dims(weighted_sum, 1)\n",
        "        num_of_repeatations = K.shape(encoded_context)[1]\n",
        "        return K.tile(expanded_weighted_sum, [1, num_of_repeatations, 1])\n",
        "\n",
        "    def compute_output_shape(self, input_shape):\n",
        "        similarity_matrix_shape, encoded_context_shape = input_shape\n",
        "        return similarity_matrix_shape[:-1] + encoded_context_shape[-1:]\n",
        "\n",
        "    def get_config(self):\n",
        "        config = super().get_config()\n",
        "        return config"
      ],
      "execution_count": 0,
      "outputs": []
    },
    {
      "cell_type": "markdown",
      "metadata": {
        "id": "EYYMv6G2jOK5",
        "colab_type": "text"
      },
      "source": [
        "## Context to Query Attention"
      ]
    },
    {
      "cell_type": "code",
      "metadata": {
        "id": "xK_pD4cIjR8d",
        "colab_type": "code",
        "colab": {}
      },
      "source": [
        "##  https://github.com/ParikhKadam/bidaf-keras/blob/master/bidaf/layers/context_to_query.py\n",
        "\n",
        "class C2QAttention(Layer):\n",
        "\n",
        "    def __init__(self, **kwargs):\n",
        "        super(C2QAttention, self).__init__(**kwargs)\n",
        "\n",
        "    def build(self, input_shape):\n",
        "        super(C2QAttention, self).build(input_shape)\n",
        "\n",
        "    def call(self, inputs):\n",
        "        similarity_matrix, encoded_question = inputs\n",
        "        context_to_query_attention = Softmax(axis=-1)(similarity_matrix)\n",
        "        encoded_question = K.expand_dims(encoded_question, axis=1)\n",
        "        return K.sum(K.expand_dims(context_to_query_attention, axis=-1) * encoded_question, -2)\n",
        "\n",
        "    def compute_output_shape(self, input_shape):\n",
        "        similarity_matrix_shape, encoded_question_shape = input_shape\n",
        "        return similarity_matrix_shape[:-1] + encoded_question_shape[-1:]\n",
        "\n",
        "    def get_config(self):\n",
        "        config = super().get_config()\n",
        "        return config"
      ],
      "execution_count": 0,
      "outputs": []
    },
    {
      "cell_type": "markdown",
      "metadata": {
        "id": "-bFXqehLix1b",
        "colab_type": "text"
      },
      "source": [
        "## Merged Context"
      ]
    },
    {
      "cell_type": "code",
      "metadata": {
        "id": "UubiBaz6ipsn",
        "colab_type": "code",
        "colab": {}
      },
      "source": [
        "## https://github.com/ParikhKadam/bidaf-keras/blob/master/bidaf/layers/merged_context.py\n",
        "\n",
        "class MergedContext(Layer):\n",
        "\n",
        "    def __init__(self, **kwargs):\n",
        "        super(MergedContext, self).__init__(**kwargs)\n",
        "\n",
        "    def build(self, input_shape):\n",
        "        super(MergedContext, self).build(input_shape)\n",
        "\n",
        "    def call(self, inputs):\n",
        "        encoded_context, context_to_query_attention, query_to_context_attention = inputs\n",
        "        element_wise_multiply1 = encoded_context * context_to_query_attention\n",
        "        element_wise_multiply2 = encoded_context * query_to_context_attention\n",
        "        concatenated_tensor = K.concatenate(\n",
        "            [encoded_context, context_to_query_attention, element_wise_multiply1, element_wise_multiply2], axis=-1)\n",
        "        return concatenated_tensor\n",
        "\n",
        "    def compute_output_shape(self, input_shape):\n",
        "        encoded_context_shape, _, _ = input_shape\n",
        "        return encoded_context_shape[:-1] + (encoded_context_shape[-1] * 4, )\n",
        "\n",
        "    def get_config(self):\n",
        "        config = super().get_config()\n",
        "        return config"
      ],
      "execution_count": 0,
      "outputs": []
    },
    {
      "cell_type": "markdown",
      "metadata": {
        "id": "o_CaOljBi_4L",
        "colab_type": "text"
      },
      "source": [
        "## Highway Layer"
      ]
    },
    {
      "cell_type": "code",
      "metadata": {
        "id": "PnQNrHBli4Ql",
        "colab_type": "code",
        "colab": {}
      },
      "source": [
        "## https://github.com/ParikhKadam/bidaf-keras/blob/master/bidaf/layers/highway_layer.py\n",
        "\n",
        "from keras.layers import Dense, Activation, Multiply, Add, Lambda\n",
        "from keras.initializers import Constant\n",
        "\n",
        "\n",
        "class Highway(Layer):\n",
        "\n",
        "    activation = None\n",
        "    transform_gate_bias = None\n",
        "\n",
        "    def __init__(self, activation='relu', transform_gate_bias=-1, **kwargs):\n",
        "        self.activation = activation\n",
        "        self.transform_gate_bias = transform_gate_bias\n",
        "        super(Highway, self).__init__(**kwargs)\n",
        "\n",
        "    def build(self, input_shape):\n",
        "        # Create a trainable weight variable for this layer.\n",
        "        dim = input_shape[-1]\n",
        "        transform_gate_bias_initializer = Constant(self.transform_gate_bias)\n",
        "        input_shape_dense_1 = input_shape[-1]\n",
        "        self.dense_1 = Dense(units=dim, bias_initializer=transform_gate_bias_initializer)\n",
        "        self.dense_1.build(input_shape)\n",
        "        self.dense_2 = Dense(units=dim)\n",
        "        self.dense_2.build(input_shape)\n",
        "        self.trainable_weights = self.dense_1.trainable_weights + self.dense_2.trainable_weights\n",
        "\n",
        "        super(Highway, self).build(input_shape)  # Be sure to call this at the end\n",
        "\n",
        "    def call(self, x):\n",
        "        dim = K.int_shape(x)[-1]\n",
        "        transform_gate = self.dense_1(x)\n",
        "        transform_gate = Activation(\"sigmoid\")(transform_gate)\n",
        "        carry_gate = Lambda(lambda x: 1.0 - x, output_shape=(dim,))(transform_gate)\n",
        "        transformed_data = self.dense_2(x)\n",
        "        transformed_data = Activation(self.activation)(transformed_data)\n",
        "        transformed_gated = Multiply()([transform_gate, transformed_data])\n",
        "        identity_gated = Multiply()([carry_gate, x])\n",
        "        value = Add()([transformed_gated, identity_gated])\n",
        "        return value\n",
        "\n",
        "    def compute_output_shape(self, input_shape):\n",
        "        return input_shape\n",
        "\n",
        "    def get_config(self):\n",
        "        config = super().get_config()\n",
        "        config['activation'] = self.activation\n",
        "        config['transform_gate_bias'] = self.transform_gate_bias\n",
        "        return config"
      ],
      "execution_count": 0,
      "outputs": []
    },
    {
      "cell_type": "markdown",
      "metadata": {
        "id": "G-UKNT49jgKs",
        "colab_type": "text"
      },
      "source": [
        "## Combine Outputs"
      ]
    },
    {
      "cell_type": "code",
      "metadata": {
        "id": "msCKMbSbjGiq",
        "colab_type": "code",
        "colab": {}
      },
      "source": [
        "## https://github.com/ParikhKadam/bidaf-keras/blob/master/bidaf/layers/combine_outputs.py\n",
        "\n",
        "class CombineOutputs(Layer):\n",
        "\n",
        "    def __init__(self, **kwargs):\n",
        "        super(CombineOutputs, self).__init__(**kwargs)\n",
        "\n",
        "    def build(self, input_shape):\n",
        "        super(CombineOutputs, self).build(input_shape)\n",
        "\n",
        "    def call(self, inputs):\n",
        "        span_begin_probabilities, span_end_probabilities = inputs\n",
        "        return K.stack([span_begin_probabilities, span_end_probabilities], axis = 1)\n",
        "\n",
        "    def compute_output_shape(self, input_shape):\n",
        "        number_of_tensors = len(input_shape)\n",
        "        return input_shape[0][0:1] + (number_of_tensors, ) + input_shape[0][1:]\n",
        "\n",
        "    def get_config(self):\n",
        "        config = super().get_config()\n",
        "        return config"
      ],
      "execution_count": 0,
      "outputs": []
    },
    {
      "cell_type": "markdown",
      "metadata": {
        "id": "o5iJq8nxj1Up",
        "colab_type": "text"
      },
      "source": [
        "# BiDAF"
      ]
    },
    {
      "cell_type": "code",
      "metadata": {
        "id": "N_w6zi1Xjo5v",
        "colab_type": "code",
        "colab": {}
      },
      "source": [
        "## https://github.com/ParikhKadam/bidaf-keras/blob/master/bidaf/models/bidaf.py\n",
        "\n",
        "from keras.layers import Input, TimeDistributed, LSTM, Bidirectional\n",
        "from keras.models import Model, load_model\n",
        "from keras.optimizers import Adadelta\n",
        "from keras.callbacks import CSVLogger, ModelCheckpoint\n",
        "\n",
        "import os\n",
        "\n",
        "\n",
        "class BidirectionalAttentionFlow():\n",
        "\n",
        "    def __init__(self, emdim, max_passage_length=None, max_query_length=None, num_highway_layers=2, num_decoders=1,\n",
        "                 encoder_dropout=0, decoder_dropout=0):\n",
        "        self.emdim = emdim\n",
        "        self.max_passage_length = max_passage_length\n",
        "        self.max_query_length = max_query_length\n",
        "\n",
        "        passage_input = Input(shape=(self.max_passage_length, emdim), dtype='float32', name=\"passage_input\")\n",
        "        question_input = Input(shape=(self.max_query_length, emdim), dtype='float32', name=\"question_input\")\n",
        "\n",
        "        question_embedding = question_input\n",
        "        passage_embedding = passage_input\n",
        "        for i in range(num_highway_layers):\n",
        "            highway_layer = Highway(name='highway_{}'.format(i))\n",
        "            question_layer = TimeDistributed(highway_layer, name=highway_layer.name + \"_qtd\")\n",
        "            question_embedding = question_layer(question_embedding)\n",
        "            passage_layer = TimeDistributed(highway_layer, name=highway_layer.name + \"_ptd\")\n",
        "            passage_embedding = passage_layer(passage_embedding)\n",
        "\n",
        "        encoder_layer = Bidirectional(LSTM(emdim, recurrent_dropout=encoder_dropout,\n",
        "                                           return_sequences=True), name='bidirectional_encoder')\n",
        "        encoded_question = encoder_layer(question_embedding)\n",
        "        encoded_passage = encoder_layer(passage_embedding)\n",
        "\n",
        "        similarity_matrix = Similarity(name='similarity_layer')([encoded_passage, encoded_question])\n",
        "\n",
        "        context_to_query_attention = C2QAttention(name='context_to_query_attention')([\n",
        "            similarity_matrix, encoded_question])\n",
        "        query_to_context_attention = Q2CAttention(name='query_to_context_attention')([\n",
        "            similarity_matrix, encoded_passage])\n",
        "\n",
        "        merged_context = MergedContext(name='merged_context')(\n",
        "            [encoded_passage, context_to_query_attention, query_to_context_attention])\n",
        "\n",
        "        modeled_passage = merged_context\n",
        "        for i in range(num_decoders):\n",
        "            hidden_layer = Bidirectional(LSTM(emdim, recurrent_dropout=decoder_dropout,\n",
        "                                              return_sequences=True), name='bidirectional_decoder_{}'.format(i))\n",
        "            modeled_passage = hidden_layer(modeled_passage)\n",
        "\n",
        "        span_begin_probabilities = SpanBegin(name='span_begin')([merged_context, modeled_passage])\n",
        "        span_end_probabilities = SpanEnd(name='span_end')(\n",
        "            [encoded_passage, merged_context, modeled_passage, span_begin_probabilities])\n",
        "\n",
        "        output = CombineOutputs(name='combine_outputs')([span_begin_probabilities, span_end_probabilities])\n",
        "\n",
        "        model = Model([passage_input, question_input], [output])\n",
        "\n",
        "        model.summary()\n",
        "\n",
        "        try:\n",
        "            model = ModelMGPU(model)\n",
        "        except:\n",
        "            pass\n",
        "\n",
        "        adadelta = Adadelta(lr=0.01)\n",
        "        model.compile(loss=negative_avg_log_error, optimizer=adadelta, metrics=[accuracy])\n",
        "\n",
        "        self.model = model\n",
        "\n",
        "    def load_bidaf(self, path):\n",
        "        custom_objects = {\n",
        "            'Highway': Highway,\n",
        "            'Similarity': Similarity,\n",
        "            'C2QAttention': C2QAttention,\n",
        "            'Q2CAttention': Q2CAttention,\n",
        "            'MergedContext': MergedContext,\n",
        "            'SpanBegin': SpanBegin,\n",
        "            'SpanEnd': SpanEnd,\n",
        "            'CombineOutputs': CombineOutputs,\n",
        "            'negative_avg_log_error': negative_avg_log_error,\n",
        "            'accuracy': accuracy\n",
        "        }\n",
        "\n",
        "        self.model = load_model(path, custom_objects=custom_objects)\n",
        "\n",
        "    def train_model(self, train_generator, steps_per_epoch=None, epochs=1, validation_generator=None,\n",
        "                    validation_steps=None, workers=1, use_multiprocessing=False, shuffle=True, initial_epoch=0,\n",
        "                    save_history=False, save_model_per_epoch=False):\n",
        "\n",
        "        saved_items_dir = os.path.join(os.path.dirname(__file__), os.pardir, 'saved_items')\n",
        "        if not os.path.exists(saved_items_dir):\n",
        "            os.makedirs(saved_items_dir)\n",
        "\n",
        "        callbacks = []\n",
        "\n",
        "        if save_history:\n",
        "            history_file = os.path.join(saved_items_dir, 'history')\n",
        "            csv_logger = CSVLogger(history_file, append=True)\n",
        "            callbacks.append(csv_logger)\n",
        "\n",
        "        if save_model_per_epoch:\n",
        "            save_model_file = os.path.join(saved_items_dir, 'bidaf_{epoch:02d}.h5')\n",
        "            checkpointer = ModelCheckpoint(filepath=save_model_file, verbose=1)\n",
        "            callbacks.append(checkpointer)\n",
        "\n",
        "        history = self.model.fit_generator(train_generator, steps_per_epoch=steps_per_epoch, epochs=epochs,\n",
        "                                           callbacks=callbacks, validation_data=validation_generator,\n",
        "                                           validation_steps=validation_steps, workers=workers,\n",
        "                                           use_multiprocessing=use_multiprocessing, shuffle=shuffle,\n",
        "                                           initial_epoch=initial_epoch)\n",
        "        if not save_model_per_epoch:\n",
        "            self.model.save(os.path.join(saved_items_dir, 'bidaf.h5'))\n",
        "\n",
        "        return history, self.model\n",
        "\n",
        "    def predict_ans(self, passage, question, squad_version=1.1, max_span_length=25, do_lowercase=True,\n",
        "                    return_char_loc=False, return_confidence_score=False):\n",
        "\n",
        "        if type(passage) == list:\n",
        "            assert all(type(pas) == str for pas in passage), \"Input 'passage' must be of type 'string'\"\n",
        "\n",
        "            passage = [pas.strip() for pas in passage]\n",
        "            contexts = []\n",
        "            for pas in passage:\n",
        "                context_tokens = tokenize(pas, do_lowercase)\n",
        "                contexts.append(context_tokens)\n",
        "\n",
        "            if do_lowercase:\n",
        "                original_passage = [pas.lower() for pas in passage]\n",
        "            else:\n",
        "                original_passage = passage\n",
        "\n",
        "        elif type(passage) == str:\n",
        "            passage = passage.strip()\n",
        "            context_tokens = tokenize(passage, do_lowercase)\n",
        "            contexts = [context_tokens, ]\n",
        "\n",
        "            if do_lowercase:\n",
        "                original_passage = [passage.lower(), ]\n",
        "            else:\n",
        "                original_passage = [passage, ]\n",
        "\n",
        "        else:\n",
        "            raise TypeError(\"Input 'passage' must be either a 'string' or 'list of strings'\")\n",
        "\n",
        "        assert type(passage) == type(\n",
        "            question), \"Both 'passage' and 'question' must be either 'string' or a 'list of strings'\"\n",
        "\n",
        "        if type(question) == list:\n",
        "            assert all(type(ques) == str for ques in question), \"Input 'question' must be of type 'string'\"\n",
        "            assert len(passage) == len(\n",
        "                question), \"Both lists (passage and question) must contain same number of elements\"\n",
        "\n",
        "            questions = []\n",
        "            for ques in question:\n",
        "                question_tokens = tokenize(ques, do_lowercase)\n",
        "                questions.append(question_tokens)\n",
        "\n",
        "        elif type(question) == str:\n",
        "            question_tokens = tokenize(question, do_lowercase)\n",
        "            questions = [question_tokens, ]\n",
        "\n",
        "        else:\n",
        "            raise TypeError(\"Input 'question' must be either a 'string' or 'list of strings'\")\n",
        "\n",
        "        vectors = MagnitudeVectors(self.emdim).load_vectors()\n",
        "        context_batch = vectors.query(contexts, self.max_passage_length)\n",
        "        question_batch = vectors.query(questions, self.max_query_length)\n",
        "\n",
        "        y = self.model.predict([context_batch, question_batch])\n",
        "        y_pred_start = y[:, 0, :]\n",
        "        y_pred_end = y[:, 1, :]\n",
        "\n",
        "        # clearing the session releases memory by removing the model from memory\n",
        "        # using this, you will need to load model every time before prediction\n",
        "        # K.clear_session()\n",
        "\n",
        "        batch_answer_span = []\n",
        "        batch_confidence_score = []\n",
        "        for sample_id in range(len(contexts)):\n",
        "            answer_span, confidence_score = get_best_span(y_pred_start[sample_id, :], y_pred_end[sample_id, :],\n",
        "                                                          len(contexts[sample_id]), squad_version, max_span_length)\n",
        "            batch_answer_span.append(answer_span)\n",
        "            batch_confidence_score.append(confidence_score)\n",
        "\n",
        "        answers = []\n",
        "        for index, answer_span in enumerate(batch_answer_span):\n",
        "            context_tokens = contexts[index]\n",
        "            start, end = answer_span[0], answer_span[1]\n",
        "\n",
        "            # word index to character index mapping\n",
        "            mapping = get_word_char_loc_mapping(original_passage[index], context_tokens)\n",
        "\n",
        "            char_loc_start = mapping[start]\n",
        "            # [1] => char_loc_end is set to point to one more character after the answer\n",
        "            char_loc_end = mapping[end] + len(context_tokens[end])\n",
        "            # [1] will help us getting a perfect slice without unnecessary increments/decrements\n",
        "            ans = original_passage[index][char_loc_start:char_loc_end]\n",
        "\n",
        "            return_dict = {\n",
        "                \"answer\": ans,\n",
        "            }\n",
        "\n",
        "            if return_char_loc:\n",
        "                return_dict[\"char_loc_start\"] = char_loc_start\n",
        "                return_dict[\"char_loc_end\"] = char_loc_end - 1\n",
        "\n",
        "            if return_confidence_score:\n",
        "                return_dict[\"confidence_score\"] = batch_confidence_score[index]\n",
        "\n",
        "            answers.append(return_dict)\n",
        "\n",
        "        if type(passage) == list:\n",
        "            return answers\n",
        "        else:\n",
        "            return answers[0]"
      ],
      "execution_count": 0,
      "outputs": []
    },
    {
      "cell_type": "code",
      "metadata": {
        "id": "bG2Wbz9kkLdi",
        "colab_type": "code",
        "colab": {}
      },
      "source": [
        "vocab_size_char = len(char_index) \n",
        "vocab_size_word=len(word_index) \n"
      ],
      "execution_count": 0,
      "outputs": []
    },
    {
      "cell_type": "code",
      "metadata": {
        "id": "rjQBzZcSrXjT",
        "colab_type": "code",
        "outputId": "c80820b0-a077-4be4-bd09-4f548851e985",
        "colab": {
          "base_uri": "https://localhost:8080/",
          "height": 34
        }
      },
      "source": [
        "context_char_len=context_char_padded.shape[1]\n",
        "context_word_len=context_word_padded.shape[1]\n",
        "question_char_len=question_char_padded.shape[1]\n",
        "question_word_len=question_word_padded.shape[1]\n",
        "\n",
        "print(context_char_len, context_word_len, question_char_len, question_word_len)"
      ],
      "execution_count": 88,
      "outputs": [
        {
          "output_type": "stream",
          "text": [
            "350 120 40 12\n"
          ],
          "name": "stdout"
        }
      ]
    },
    {
      "cell_type": "code",
      "metadata": {
        "id": "_D92IcODMHqG",
        "colab_type": "code",
        "colab": {}
      },
      "source": [
        "def jaccard_similarity(list1, list2):\n",
        "    intersection = len(list(set(list1).intersection(list2)))\n",
        "    union = (len(list1) + len(list2)) - intersection\n",
        "    return tf.enable_eager_execution(float(intersection) / union)"
      ],
      "execution_count": 0,
      "outputs": []
    },
    {
      "cell_type": "code",
      "metadata": {
        "id": "yhXJavUFtQ0o",
        "colab_type": "code",
        "colab": {
          "base_uri": "https://localhost:8080/",
          "height": 34
        },
        "outputId": "6367f000-dbac-4960-c31e-a5d3cff67852"
      },
      "source": [
        "passage_embedding_fasttext.shape[1]\n",
        "\n"
      ],
      "execution_count": 191,
      "outputs": [
        {
          "output_type": "execute_result",
          "data": {
            "text/plain": [
              "Dimension(120)"
            ]
          },
          "metadata": {
            "tags": []
          },
          "execution_count": 191
        }
      ]
    },
    {
      "cell_type": "code",
      "metadata": {
        "id": "lC2jfUBAtshh",
        "colab_type": "code",
        "colab": {}
      },
      "source": [
        "## https://github.com/ParikhKadam/bidaf-keras/blob/master/bidaf/layers/similarity_layer.py\n",
        "\n",
        "\n",
        "class Similarity(Layer):\n",
        "\n",
        "    def __init__(self, **kwargs):\n",
        "        super(Similarity, self).__init__(**kwargs)\n",
        "\n",
        "    def compute_similarity(self, repeated_context_vectors, repeated_query_vectors):\n",
        "        element_wise_multiply = repeated_context_vectors * repeated_query_vectors\n",
        "        concatenated_tensor = np.concatenate(\n",
        "            [repeated_context_vectors, repeated_query_vectors, element_wise_multiply], axis=-1)\n",
        "        dot_product = K.squeeze(K.dot(concatenated_tensor, self.kernel), axis=-1)\n",
        "        return linear(dot_product + self.bias)\n",
        "\n",
        "    def build(self, input_shape):\n",
        "        word_vector_dim = input_shape[0][-1]\n",
        "        weight_vector_dim = word_vector_dim * 3\n",
        "        self.kernel = self.add_weight(name='similarity_weight',\n",
        "                                      shape=(weight_vector_dim, 1),\n",
        "                                      initializer='uniform',\n",
        "                                      trainable=True)\n",
        "        self.bias = self.add_weight(name='similarity_bias',\n",
        "                                    shape=(),\n",
        "                                    initializer='ones',\n",
        "                                    trainable=True)\n",
        "        super(Similarity, self).build(input_shape)\n",
        "\n",
        "    def call(self, inputs):\n",
        "        context_vectors, query_vectors = inputs\n",
        "        num_context_words = context_vectors.shape[1]\n",
        "        num_query_words = query_vectors.shape[1]\n",
        "        # num_context_words = K.shape(context_vectors)[1]\n",
        "        # num_query_words = K.shape(query_vectors)[1]\n",
        "        context_dim_repeat = np.concatenate([[1, 1], [num_query_words], [1]], 0)\n",
        "        query_dim_repeat = np.concatenate([[1], [num_context_words], [1, 1]], 0)\n",
        "        repeated_context_vectors = K.tile(K.expand_dims(context_vectors, axis=2), context_dim_repeat)\n",
        "        repeated_query_vectors = K.tile(K.expand_dims(query_vectors, axis=1), query_dim_repeat)\n",
        "        similarity_matrix = self.compute_similarity(repeated_context_vectors, repeated_query_vectors)\n",
        "        return similarity_matrix\n",
        "\n",
        "    def compute_output_shape(self, input_shape):\n",
        "        batch_size = input_shape[0][0]\n",
        "        num_context_words = input_shape[0][1]\n",
        "        num_query_words = input_shape[1][1]\n",
        "        return (batch_size, num_context_words, num_query_words)\n",
        "\n",
        "    def get_config(self):\n",
        "        config = super().get_config()\n",
        "        return config"
      ],
      "execution_count": 0,
      "outputs": []
    },
    {
      "cell_type": "code",
      "metadata": {
        "id": "koefOh25kw7T",
        "colab_type": "code",
        "outputId": "e0b6ac82-494c-43c3-9988-18da4a47faae",
        "colab": {
          "base_uri": "https://localhost:8080/",
          "height": 425
        }
      },
      "source": [
        "emdim=300\n",
        "max_passage_length = 120\n",
        "max_query_length = 12\n",
        "num_highway_layers=2\n",
        "encoder_dropout=0\n",
        "decoder_dropout=0\n",
        "num_encoders=2\n",
        "num_decoders=1\n",
        "passage_input = Input(shape=(max_passage_length, ))\n",
        "question_input = Input(shape=(max_query_length,))\n",
        "passage_embedding_fasttext=Embedding(vocab_size_char, 300, weights=[embedding_matrix_fasttext], input_length=max_passage_length, trainable=False)(passage_input)\n",
        "passage_embedding_glove= Embedding(vocab_size_word+1, 300, weights=[embedding_matrix_glove], input_length=max_passage_length, trainable=False)(passage_input)\n",
        "question_embedding_fasttext=Embedding(vocab_size_char, 300, weights=[embedding_matrix_fasttext], input_length=max_query_length, trainable=False)(question_input)\n",
        "question_embedding_glove=Embedding(vocab_size_word+1, 300, weights=[embedding_matrix_glove], input_length=max_query_length, trainable=False)(question_input)\n",
        "# question_embedding = concatenate([question_embedding_fasttext, question_embedding_glove ], axis=-1, name='question_embeding')\n",
        "# passage_embedding = concatenate([passage_embedding_fasttext, passage_embedding_glove ], axis=-1, name='passage_embedding')\n",
        "# for i in range(num_highway_layers):   \n",
        "highway_layer = Highway(name='highway_1')\n",
        "question_layer = TimeDistributed(highway_layer, name=highway_layer.name + \"_qtd\")\n",
        "question_embedding = question_layer(question_embedding_fasttext)\n",
        "passage_layer = TimeDistributed(highway_layer, name=highway_layer.name + \"_ptd\")\n",
        "passage_embedding = passage_layer(passage_embedding_fasttext)\n",
        "\n",
        "print(\"ran till here 1\")\n",
        "encoder_layer = Bidirectional(LSTM(emdim, recurrent_dropout=encoder_dropout,\n",
        "                                    return_sequences=True), name='bidirectional_encoder')\n",
        "encoded_question = encoder_layer(question_embedding)\n",
        "encoded_passage = encoder_layer(passage_embedding)\n",
        "\n",
        "similarity_matrix = Similarity(name='similarity_layer')([encoded_passage, encoded_question])\n",
        "# similarity_matrix=jaccard_similarity(encoded_passage, encoded_question)\n",
        "context_to_query_attention = C2QAttention(name='context_to_query_attention')([\n",
        "    similarity_matrix, encoded_question])\n",
        "query_to_context_attention = Q2CAttention(name='query_to_context_attention')([\n",
        "    similarity_matrix, encoded_passage])\n",
        "\n",
        "merged_context = MergedContext(name='merged_context')(\n",
        "    [encoded_passage, context_to_query_attention, query_to_context_attention])\n",
        "\n",
        "modeled_passage = merged_context\n",
        "for i in range(num_decoders):\n",
        "    hidden_layer = Bidirectional(LSTM(emdim, recurrent_dropout=decoder_dropout,\n",
        "                                      return_sequences=True), name='bidirectional_decoder_{}'.format(i))\n",
        "    modeled_passage = hidden_layer(modeled_passage)\n",
        "\n",
        "span_begin_probabilities = SpanBegin(name='span_begin')([merged_context, modeled_passage])\n",
        "span_end_probabilities = SpanEnd(name='span_end')(\n",
        "    [encoded_passage, merged_context, modeled_passage, span_begin_probabilities])\n",
        "\n",
        "output = CombineOutputs(name='combine_outputs')([span_begin_probabilities, span_end_probabilities])\n",
        "\n",
        "model = Model([passage_input, question_input], [output])\n",
        "\n",
        "model.summary()\n"
      ],
      "execution_count": 197,
      "outputs": [
        {
          "output_type": "stream",
          "text": [
            "ran till here 1\n"
          ],
          "name": "stdout"
        },
        {
          "output_type": "error",
          "ename": "TypeError",
          "evalue": "ignored",
          "traceback": [
            "\u001b[0;31m---------------------------------------------------------------------------\u001b[0m",
            "\u001b[0;31mTypeError\u001b[0m                                 Traceback (most recent call last)",
            "\u001b[0;32m<ipython-input-197-98615bd15ee6>\u001b[0m in \u001b[0;36m<module>\u001b[0;34m()\u001b[0m\n\u001b[1;32m     28\u001b[0m \u001b[0mencoded_passage\u001b[0m \u001b[0;34m=\u001b[0m \u001b[0mencoder_layer\u001b[0m\u001b[0;34m(\u001b[0m\u001b[0mpassage_embedding\u001b[0m\u001b[0;34m)\u001b[0m\u001b[0;34m\u001b[0m\u001b[0;34m\u001b[0m\u001b[0m\n\u001b[1;32m     29\u001b[0m \u001b[0;34m\u001b[0m\u001b[0m\n\u001b[0;32m---> 30\u001b[0;31m \u001b[0msimilarity_matrix\u001b[0m \u001b[0;34m=\u001b[0m \u001b[0mSimilarity\u001b[0m\u001b[0;34m(\u001b[0m\u001b[0mname\u001b[0m\u001b[0;34m=\u001b[0m\u001b[0;34m'similarity_layer'\u001b[0m\u001b[0;34m)\u001b[0m\u001b[0;34m(\u001b[0m\u001b[0;34m[\u001b[0m\u001b[0mencoded_passage\u001b[0m\u001b[0;34m,\u001b[0m \u001b[0mencoded_question\u001b[0m\u001b[0;34m]\u001b[0m\u001b[0;34m)\u001b[0m\u001b[0;34m\u001b[0m\u001b[0;34m\u001b[0m\u001b[0m\n\u001b[0m\u001b[1;32m     31\u001b[0m \u001b[0;31m# similarity_matrix=jaccard_similarity(encoded_passage, encoded_question)\u001b[0m\u001b[0;34m\u001b[0m\u001b[0;34m\u001b[0m\u001b[0;34m\u001b[0m\u001b[0m\n\u001b[1;32m     32\u001b[0m context_to_query_attention = C2QAttention(name='context_to_query_attention')([\n",
            "\u001b[0;32m/usr/local/lib/python3.6/dist-packages/keras/engine/base_layer.py\u001b[0m in \u001b[0;36m__call__\u001b[0;34m(self, inputs, **kwargs)\u001b[0m\n\u001b[1;32m    449\u001b[0m             \u001b[0;31m# Actually call the layer,\u001b[0m\u001b[0;34m\u001b[0m\u001b[0;34m\u001b[0m\u001b[0;34m\u001b[0m\u001b[0m\n\u001b[1;32m    450\u001b[0m             \u001b[0;31m# collecting output(s), mask(s), and shape(s).\u001b[0m\u001b[0;34m\u001b[0m\u001b[0;34m\u001b[0m\u001b[0;34m\u001b[0m\u001b[0m\n\u001b[0;32m--> 451\u001b[0;31m             \u001b[0moutput\u001b[0m \u001b[0;34m=\u001b[0m \u001b[0mself\u001b[0m\u001b[0;34m.\u001b[0m\u001b[0mcall\u001b[0m\u001b[0;34m(\u001b[0m\u001b[0minputs\u001b[0m\u001b[0;34m,\u001b[0m \u001b[0;34m**\u001b[0m\u001b[0mkwargs\u001b[0m\u001b[0;34m)\u001b[0m\u001b[0;34m\u001b[0m\u001b[0;34m\u001b[0m\u001b[0m\n\u001b[0m\u001b[1;32m    452\u001b[0m             \u001b[0moutput_mask\u001b[0m \u001b[0;34m=\u001b[0m \u001b[0mself\u001b[0m\u001b[0;34m.\u001b[0m\u001b[0mcompute_mask\u001b[0m\u001b[0;34m(\u001b[0m\u001b[0minputs\u001b[0m\u001b[0;34m,\u001b[0m \u001b[0mprevious_mask\u001b[0m\u001b[0;34m)\u001b[0m\u001b[0;34m\u001b[0m\u001b[0;34m\u001b[0m\u001b[0m\n\u001b[1;32m    453\u001b[0m \u001b[0;34m\u001b[0m\u001b[0m\n",
            "\u001b[0;32m<ipython-input-196-6a33fcad4449>\u001b[0m in \u001b[0;36mcall\u001b[0;34m(self, inputs)\u001b[0m\n\u001b[1;32m     34\u001b[0m         \u001b[0mcontext_dim_repeat\u001b[0m \u001b[0;34m=\u001b[0m \u001b[0mnp\u001b[0m\u001b[0;34m.\u001b[0m\u001b[0mconcatenate\u001b[0m\u001b[0;34m(\u001b[0m\u001b[0;34m[\u001b[0m\u001b[0;34m[\u001b[0m\u001b[0;36m1\u001b[0m\u001b[0;34m,\u001b[0m \u001b[0;36m1\u001b[0m\u001b[0;34m]\u001b[0m\u001b[0;34m,\u001b[0m \u001b[0;34m[\u001b[0m\u001b[0mnum_query_words\u001b[0m\u001b[0;34m]\u001b[0m\u001b[0;34m,\u001b[0m \u001b[0;34m[\u001b[0m\u001b[0;36m1\u001b[0m\u001b[0;34m]\u001b[0m\u001b[0;34m]\u001b[0m\u001b[0;34m,\u001b[0m \u001b[0;36m0\u001b[0m\u001b[0;34m)\u001b[0m\u001b[0;34m\u001b[0m\u001b[0;34m\u001b[0m\u001b[0m\n\u001b[1;32m     35\u001b[0m         \u001b[0mquery_dim_repeat\u001b[0m \u001b[0;34m=\u001b[0m \u001b[0mnp\u001b[0m\u001b[0;34m.\u001b[0m\u001b[0mconcatenate\u001b[0m\u001b[0;34m(\u001b[0m\u001b[0;34m[\u001b[0m\u001b[0;34m[\u001b[0m\u001b[0;36m1\u001b[0m\u001b[0;34m]\u001b[0m\u001b[0;34m,\u001b[0m \u001b[0;34m[\u001b[0m\u001b[0mnum_context_words\u001b[0m\u001b[0;34m]\u001b[0m\u001b[0;34m,\u001b[0m \u001b[0;34m[\u001b[0m\u001b[0;36m1\u001b[0m\u001b[0;34m,\u001b[0m \u001b[0;36m1\u001b[0m\u001b[0;34m]\u001b[0m\u001b[0;34m]\u001b[0m\u001b[0;34m,\u001b[0m \u001b[0;36m0\u001b[0m\u001b[0;34m)\u001b[0m\u001b[0;34m\u001b[0m\u001b[0;34m\u001b[0m\u001b[0m\n\u001b[0;32m---> 36\u001b[0;31m         \u001b[0mrepeated_context_vectors\u001b[0m \u001b[0;34m=\u001b[0m \u001b[0mK\u001b[0m\u001b[0;34m.\u001b[0m\u001b[0mtile\u001b[0m\u001b[0;34m(\u001b[0m\u001b[0mK\u001b[0m\u001b[0;34m.\u001b[0m\u001b[0mexpand_dims\u001b[0m\u001b[0;34m(\u001b[0m\u001b[0mcontext_vectors\u001b[0m\u001b[0;34m,\u001b[0m \u001b[0maxis\u001b[0m\u001b[0;34m=\u001b[0m\u001b[0;36m2\u001b[0m\u001b[0;34m)\u001b[0m\u001b[0;34m,\u001b[0m \u001b[0mcontext_dim_repeat\u001b[0m\u001b[0;34m)\u001b[0m\u001b[0;34m\u001b[0m\u001b[0;34m\u001b[0m\u001b[0m\n\u001b[0m\u001b[1;32m     37\u001b[0m         \u001b[0mrepeated_query_vectors\u001b[0m \u001b[0;34m=\u001b[0m \u001b[0mK\u001b[0m\u001b[0;34m.\u001b[0m\u001b[0mtile\u001b[0m\u001b[0;34m(\u001b[0m\u001b[0mK\u001b[0m\u001b[0;34m.\u001b[0m\u001b[0mexpand_dims\u001b[0m\u001b[0;34m(\u001b[0m\u001b[0mquery_vectors\u001b[0m\u001b[0;34m,\u001b[0m \u001b[0maxis\u001b[0m\u001b[0;34m=\u001b[0m\u001b[0;36m1\u001b[0m\u001b[0;34m)\u001b[0m\u001b[0;34m,\u001b[0m \u001b[0mquery_dim_repeat\u001b[0m\u001b[0;34m)\u001b[0m\u001b[0;34m\u001b[0m\u001b[0;34m\u001b[0m\u001b[0m\n\u001b[1;32m     38\u001b[0m         \u001b[0msimilarity_matrix\u001b[0m \u001b[0;34m=\u001b[0m \u001b[0mself\u001b[0m\u001b[0;34m.\u001b[0m\u001b[0mcompute_similarity\u001b[0m\u001b[0;34m(\u001b[0m\u001b[0mrepeated_context_vectors\u001b[0m\u001b[0;34m,\u001b[0m \u001b[0mrepeated_query_vectors\u001b[0m\u001b[0;34m)\u001b[0m\u001b[0;34m\u001b[0m\u001b[0;34m\u001b[0m\u001b[0m\n",
            "\u001b[0;32m/usr/local/lib/python3.6/dist-packages/keras/backend/tensorflow_backend.py\u001b[0m in \u001b[0;36mtile\u001b[0;34m(x, n)\u001b[0m\n\u001b[1;32m   2433\u001b[0m         \u001b[0;32mraise\u001b[0m \u001b[0mNotImplementedError\u001b[0m\u001b[0;34m\u001b[0m\u001b[0;34m\u001b[0m\u001b[0m\n\u001b[1;32m   2434\u001b[0m \u001b[0;34m\u001b[0m\u001b[0m\n\u001b[0;32m-> 2435\u001b[0;31m     \u001b[0;32mreturn\u001b[0m \u001b[0mtf\u001b[0m\u001b[0;34m.\u001b[0m\u001b[0mtile\u001b[0m\u001b[0;34m(\u001b[0m\u001b[0mx\u001b[0m\u001b[0;34m,\u001b[0m \u001b[0mn\u001b[0m\u001b[0;34m)\u001b[0m\u001b[0;34m\u001b[0m\u001b[0;34m\u001b[0m\u001b[0m\n\u001b[0m\u001b[1;32m   2436\u001b[0m \u001b[0;34m\u001b[0m\u001b[0m\n\u001b[1;32m   2437\u001b[0m \u001b[0;34m\u001b[0m\u001b[0m\n",
            "\u001b[0;32m/tensorflow-1.15.0/python3.6/tensorflow_core/python/ops/gen_array_ops.py\u001b[0m in \u001b[0;36mtile\u001b[0;34m(input, multiples, name)\u001b[0m\n\u001b[1;32m  11307\u001b[0m   \u001b[0;32mtry\u001b[0m\u001b[0;34m:\u001b[0m\u001b[0;34m\u001b[0m\u001b[0;34m\u001b[0m\u001b[0m\n\u001b[1;32m  11308\u001b[0m     _, _, _op = _op_def_lib._apply_op_helper(\n\u001b[0;32m> 11309\u001b[0;31m         \"Tile\", input=input, multiples=multiples, name=name)\n\u001b[0m\u001b[1;32m  11310\u001b[0m   \u001b[0;32mexcept\u001b[0m \u001b[0;34m(\u001b[0m\u001b[0mTypeError\u001b[0m\u001b[0;34m,\u001b[0m \u001b[0mValueError\u001b[0m\u001b[0;34m)\u001b[0m\u001b[0;34m:\u001b[0m\u001b[0;34m\u001b[0m\u001b[0;34m\u001b[0m\u001b[0m\n\u001b[1;32m  11311\u001b[0m     result = _dispatch.dispatch(\n",
            "\u001b[0;32m/tensorflow-1.15.0/python3.6/tensorflow_core/python/framework/op_def_library.py\u001b[0m in \u001b[0;36m_apply_op_helper\u001b[0;34m(self, op_type_name, name, **keywords)\u001b[0m\n\u001b[1;32m    529\u001b[0m           \u001b[0;32mexcept\u001b[0m \u001b[0mTypeError\u001b[0m \u001b[0;32mas\u001b[0m \u001b[0merr\u001b[0m\u001b[0;34m:\u001b[0m\u001b[0;34m\u001b[0m\u001b[0;34m\u001b[0m\u001b[0m\n\u001b[1;32m    530\u001b[0m             \u001b[0;32mif\u001b[0m \u001b[0mdtype\u001b[0m \u001b[0;32mis\u001b[0m \u001b[0;32mNone\u001b[0m\u001b[0;34m:\u001b[0m\u001b[0;34m\u001b[0m\u001b[0;34m\u001b[0m\u001b[0m\n\u001b[0;32m--> 531\u001b[0;31m               \u001b[0;32mraise\u001b[0m \u001b[0merr\u001b[0m\u001b[0;34m\u001b[0m\u001b[0;34m\u001b[0m\u001b[0m\n\u001b[0m\u001b[1;32m    532\u001b[0m             \u001b[0;32melse\u001b[0m\u001b[0;34m:\u001b[0m\u001b[0;34m\u001b[0m\u001b[0;34m\u001b[0m\u001b[0m\n\u001b[1;32m    533\u001b[0m               raise TypeError(\n",
            "\u001b[0;32m/tensorflow-1.15.0/python3.6/tensorflow_core/python/framework/op_def_library.py\u001b[0m in \u001b[0;36m_apply_op_helper\u001b[0;34m(self, op_type_name, name, **keywords)\u001b[0m\n\u001b[1;32m    526\u001b[0m                 \u001b[0mdtype\u001b[0m\u001b[0;34m=\u001b[0m\u001b[0mdtype\u001b[0m\u001b[0;34m,\u001b[0m\u001b[0;34m\u001b[0m\u001b[0;34m\u001b[0m\u001b[0m\n\u001b[1;32m    527\u001b[0m                 \u001b[0mas_ref\u001b[0m\u001b[0;34m=\u001b[0m\u001b[0minput_arg\u001b[0m\u001b[0;34m.\u001b[0m\u001b[0mis_ref\u001b[0m\u001b[0;34m,\u001b[0m\u001b[0;34m\u001b[0m\u001b[0;34m\u001b[0m\u001b[0m\n\u001b[0;32m--> 528\u001b[0;31m                 preferred_dtype=default_dtype)\n\u001b[0m\u001b[1;32m    529\u001b[0m           \u001b[0;32mexcept\u001b[0m \u001b[0mTypeError\u001b[0m \u001b[0;32mas\u001b[0m \u001b[0merr\u001b[0m\u001b[0;34m:\u001b[0m\u001b[0;34m\u001b[0m\u001b[0;34m\u001b[0m\u001b[0m\n\u001b[1;32m    530\u001b[0m             \u001b[0;32mif\u001b[0m \u001b[0mdtype\u001b[0m \u001b[0;32mis\u001b[0m \u001b[0;32mNone\u001b[0m\u001b[0;34m:\u001b[0m\u001b[0;34m\u001b[0m\u001b[0;34m\u001b[0m\u001b[0m\n",
            "\u001b[0;32m/tensorflow-1.15.0/python3.6/tensorflow_core/python/framework/ops.py\u001b[0m in \u001b[0;36minternal_convert_to_tensor\u001b[0;34m(value, dtype, name, as_ref, preferred_dtype, ctx, accepted_result_types)\u001b[0m\n\u001b[1;32m   1295\u001b[0m \u001b[0;34m\u001b[0m\u001b[0m\n\u001b[1;32m   1296\u001b[0m     \u001b[0;32mif\u001b[0m \u001b[0mret\u001b[0m \u001b[0;32mis\u001b[0m \u001b[0;32mNone\u001b[0m\u001b[0;34m:\u001b[0m\u001b[0;34m\u001b[0m\u001b[0;34m\u001b[0m\u001b[0m\n\u001b[0;32m-> 1297\u001b[0;31m       \u001b[0mret\u001b[0m \u001b[0;34m=\u001b[0m \u001b[0mconversion_func\u001b[0m\u001b[0;34m(\u001b[0m\u001b[0mvalue\u001b[0m\u001b[0;34m,\u001b[0m \u001b[0mdtype\u001b[0m\u001b[0;34m=\u001b[0m\u001b[0mdtype\u001b[0m\u001b[0;34m,\u001b[0m \u001b[0mname\u001b[0m\u001b[0;34m=\u001b[0m\u001b[0mname\u001b[0m\u001b[0;34m,\u001b[0m \u001b[0mas_ref\u001b[0m\u001b[0;34m=\u001b[0m\u001b[0mas_ref\u001b[0m\u001b[0;34m)\u001b[0m\u001b[0;34m\u001b[0m\u001b[0;34m\u001b[0m\u001b[0m\n\u001b[0m\u001b[1;32m   1298\u001b[0m \u001b[0;34m\u001b[0m\u001b[0m\n\u001b[1;32m   1299\u001b[0m     \u001b[0;32mif\u001b[0m \u001b[0mret\u001b[0m \u001b[0;32mis\u001b[0m \u001b[0mNotImplemented\u001b[0m\u001b[0;34m:\u001b[0m\u001b[0;34m\u001b[0m\u001b[0;34m\u001b[0m\u001b[0m\n",
            "\u001b[0;32m/tensorflow-1.15.0/python3.6/tensorflow_core/python/framework/tensor_conversion_registry.py\u001b[0m in \u001b[0;36m_default_conversion_function\u001b[0;34m(***failed resolving arguments***)\u001b[0m\n\u001b[1;32m     50\u001b[0m \u001b[0;32mdef\u001b[0m \u001b[0m_default_conversion_function\u001b[0m\u001b[0;34m(\u001b[0m\u001b[0mvalue\u001b[0m\u001b[0;34m,\u001b[0m \u001b[0mdtype\u001b[0m\u001b[0;34m,\u001b[0m \u001b[0mname\u001b[0m\u001b[0;34m,\u001b[0m \u001b[0mas_ref\u001b[0m\u001b[0;34m)\u001b[0m\u001b[0;34m:\u001b[0m\u001b[0;34m\u001b[0m\u001b[0;34m\u001b[0m\u001b[0m\n\u001b[1;32m     51\u001b[0m   \u001b[0;32mdel\u001b[0m \u001b[0mas_ref\u001b[0m  \u001b[0;31m# Unused.\u001b[0m\u001b[0;34m\u001b[0m\u001b[0;34m\u001b[0m\u001b[0m\n\u001b[0;32m---> 52\u001b[0;31m   \u001b[0;32mreturn\u001b[0m \u001b[0mconstant_op\u001b[0m\u001b[0;34m.\u001b[0m\u001b[0mconstant\u001b[0m\u001b[0;34m(\u001b[0m\u001b[0mvalue\u001b[0m\u001b[0;34m,\u001b[0m \u001b[0mdtype\u001b[0m\u001b[0;34m,\u001b[0m \u001b[0mname\u001b[0m\u001b[0;34m=\u001b[0m\u001b[0mname\u001b[0m\u001b[0;34m)\u001b[0m\u001b[0;34m\u001b[0m\u001b[0;34m\u001b[0m\u001b[0m\n\u001b[0m\u001b[1;32m     53\u001b[0m \u001b[0;34m\u001b[0m\u001b[0m\n\u001b[1;32m     54\u001b[0m \u001b[0;34m\u001b[0m\u001b[0m\n",
            "\u001b[0;32m/tensorflow-1.15.0/python3.6/tensorflow_core/python/framework/constant_op.py\u001b[0m in \u001b[0;36mconstant\u001b[0;34m(value, dtype, shape, name)\u001b[0m\n\u001b[1;32m    225\u001b[0m   \"\"\"\n\u001b[1;32m    226\u001b[0m   return _constant_impl(value, dtype, shape, name, verify_shape=False,\n\u001b[0;32m--> 227\u001b[0;31m                         allow_broadcast=True)\n\u001b[0m\u001b[1;32m    228\u001b[0m \u001b[0;34m\u001b[0m\u001b[0m\n\u001b[1;32m    229\u001b[0m \u001b[0;34m\u001b[0m\u001b[0m\n",
            "\u001b[0;32m/tensorflow-1.15.0/python3.6/tensorflow_core/python/framework/constant_op.py\u001b[0m in \u001b[0;36m_constant_impl\u001b[0;34m(value, dtype, shape, name, verify_shape, allow_broadcast)\u001b[0m\n\u001b[1;32m    263\u001b[0m       tensor_util.make_tensor_proto(\n\u001b[1;32m    264\u001b[0m           \u001b[0mvalue\u001b[0m\u001b[0;34m,\u001b[0m \u001b[0mdtype\u001b[0m\u001b[0;34m=\u001b[0m\u001b[0mdtype\u001b[0m\u001b[0;34m,\u001b[0m \u001b[0mshape\u001b[0m\u001b[0;34m=\u001b[0m\u001b[0mshape\u001b[0m\u001b[0;34m,\u001b[0m \u001b[0mverify_shape\u001b[0m\u001b[0;34m=\u001b[0m\u001b[0mverify_shape\u001b[0m\u001b[0;34m,\u001b[0m\u001b[0;34m\u001b[0m\u001b[0;34m\u001b[0m\u001b[0m\n\u001b[0;32m--> 265\u001b[0;31m           allow_broadcast=allow_broadcast))\n\u001b[0m\u001b[1;32m    266\u001b[0m   \u001b[0mdtype_value\u001b[0m \u001b[0;34m=\u001b[0m \u001b[0mattr_value_pb2\u001b[0m\u001b[0;34m.\u001b[0m\u001b[0mAttrValue\u001b[0m\u001b[0;34m(\u001b[0m\u001b[0mtype\u001b[0m\u001b[0;34m=\u001b[0m\u001b[0mtensor_value\u001b[0m\u001b[0;34m.\u001b[0m\u001b[0mtensor\u001b[0m\u001b[0;34m.\u001b[0m\u001b[0mdtype\u001b[0m\u001b[0;34m)\u001b[0m\u001b[0;34m\u001b[0m\u001b[0;34m\u001b[0m\u001b[0m\n\u001b[1;32m    267\u001b[0m   const_tensor = g.create_op(\n",
            "\u001b[0;32m/tensorflow-1.15.0/python3.6/tensorflow_core/python/framework/tensor_util.py\u001b[0m in \u001b[0;36mmake_tensor_proto\u001b[0;34m(values, dtype, shape, verify_shape, allow_broadcast)\u001b[0m\n\u001b[1;32m    554\u001b[0m     raise TypeError(\n\u001b[1;32m    555\u001b[0m         \"Element type not supported in TensorProto: %s\" % numpy_dtype.name)\n\u001b[0;32m--> 556\u001b[0;31m   \u001b[0mappend_fn\u001b[0m\u001b[0;34m(\u001b[0m\u001b[0mtensor_proto\u001b[0m\u001b[0;34m,\u001b[0m \u001b[0mproto_values\u001b[0m\u001b[0;34m)\u001b[0m\u001b[0;34m\u001b[0m\u001b[0;34m\u001b[0m\u001b[0m\n\u001b[0m\u001b[1;32m    557\u001b[0m \u001b[0;34m\u001b[0m\u001b[0m\n\u001b[1;32m    558\u001b[0m   \u001b[0;32mreturn\u001b[0m \u001b[0mtensor_proto\u001b[0m\u001b[0;34m\u001b[0m\u001b[0;34m\u001b[0m\u001b[0m\n",
            "\u001b[0;32mtensorflow/python/framework/fast_tensor_util.pyx\u001b[0m in \u001b[0;36mtensorflow.python.framework.fast_tensor_util.AppendObjectArrayToTensorProto\u001b[0;34m()\u001b[0m\n",
            "\u001b[0;32m/tensorflow-1.15.0/python3.6/tensorflow_core/python/util/compat.py\u001b[0m in \u001b[0;36mas_bytes\u001b[0;34m(bytes_or_text, encoding)\u001b[0m\n\u001b[1;32m     69\u001b[0m   \u001b[0;32melse\u001b[0m\u001b[0;34m:\u001b[0m\u001b[0;34m\u001b[0m\u001b[0;34m\u001b[0m\u001b[0m\n\u001b[1;32m     70\u001b[0m     raise TypeError('Expected binary or unicode string, got %r' %\n\u001b[0;32m---> 71\u001b[0;31m                     (bytes_or_text,))\n\u001b[0m\u001b[1;32m     72\u001b[0m \u001b[0;34m\u001b[0m\u001b[0m\n\u001b[1;32m     73\u001b[0m \u001b[0;34m\u001b[0m\u001b[0m\n",
            "\u001b[0;31mTypeError\u001b[0m: Expected binary or unicode string, got 1"
          ]
        }
      ]
    },
    {
      "cell_type": "code",
      "metadata": {
        "id": "nxupXtldiTOn",
        "colab_type": "code",
        "colab": {
          "base_uri": "https://localhost:8080/",
          "height": 34
        },
        "outputId": "9e522c8c-6eee-4328-b006-56b96d623dd7"
      },
      "source": [
        "encoded_passage.shape"
      ],
      "execution_count": 200,
      "outputs": [
        {
          "output_type": "execute_result",
          "data": {
            "text/plain": [
              "TensorShape([Dimension(None), Dimension(None), Dimension(600)])"
            ]
          },
          "metadata": {
            "tags": []
          },
          "execution_count": 200
        }
      ]
    },
    {
      "cell_type": "code",
      "metadata": {
        "id": "ZrK72hDHlRX0",
        "colab_type": "code",
        "colab": {
          "base_uri": "https://localhost:8080/",
          "height": 34
        },
        "outputId": "6be4025f-54a6-483e-9455-4757552d3bd6"
      },
      "source": [
        "encoded_question.shape"
      ],
      "execution_count": 201,
      "outputs": [
        {
          "output_type": "execute_result",
          "data": {
            "text/plain": [
              "TensorShape([Dimension(None), Dimension(None), Dimension(600)])"
            ]
          },
          "metadata": {
            "tags": []
          },
          "execution_count": 201
        }
      ]
    },
    {
      "cell_type": "code",
      "metadata": {
        "id": "OLt5H2cQ8zVd",
        "colab_type": "code",
        "colab": {}
      },
      "source": [
        ""
      ],
      "execution_count": 0,
      "outputs": []
    }
  ]
}